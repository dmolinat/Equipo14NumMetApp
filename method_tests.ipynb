{
 "cells": [
  {
   "cell_type": "markdown",
   "metadata": {},
   "source": [
    "# Biseccion.\n",
    "```\n",
    "function  [f_s, c, err, yc] = bisect (f1, a, b, delta)\n",
    "% Entrada - f es la funcion introducida sin @(x) se le agregara\n",
    "%         - despues\n",
    "%\t      - a y b son los extremos izquierdo y derecho\n",
    "%\t      - delta es la tolerancia\n",
    "% Salida  - c es el cero\n",
    "%\t      - yc = f(c)\n",
    "% \t      - err es el error estimado para  c\n",
    "\n",
    "%  METODOS NUMERICOS: Programas en Matlab\n",
    "% (c) 2004 por John H. Mathews y Kurtis D. Fink adaptado\n",
    "% por Denilson Molina (c) 2022.\n",
    "\n",
    "%Changes to adapt\n",
    "f1=strtrim(f1);\n",
    "f_s=str2sym(f1);\n",
    "f=str2func(strcat('@(x)',f1));\n",
    "\n",
    "%Code\n",
    "ya = feval(f, a);\n",
    "yb = feval(f, b);\n",
    "c = 0;\n",
    "err = 0;\n",
    "yc = 0;\n",
    "\n",
    "if  ya*yb > 0, return, end\n",
    "max1 = 1 + round((log(b-a) - log(delta)) / log(2));\n",
    "for  k = 1:max1\n",
    "\tc = (a + b) / 2;\n",
    "\tyc = feval(f, c);\n",
    "\tif  yc == 0\n",
    "\t\ta = c;\n",
    "\t\tb = c;\n",
    "\telseif  yb*yc > 0\n",
    "\t\tb = c;\n",
    "\t\tyb = yc;\n",
    "\telse\n",
    "\t\ta = c;\n",
    "\t\tya = yc;\n",
    "\tend\n",
    "\tif  b-a < delta, break, end\n",
    "end\n",
    "\n",
    "c = (a + b) / 2;\n",
    "err = abs(b - a);\n",
    "yc = feval(f, c);\n",
    "\n",
    "end\n",
    "```"
   ]
  },
  {
   "cell_type": "code",
   "execution_count": 8,
   "metadata": {},
   "outputs": [
    {
     "data": {
      "text/plain": [
       "(4.712388980406104, 5.820766091346741e-11, -1.7280831680313198e-15)"
      ]
     },
     "execution_count": 8,
     "metadata": {},
     "output_type": "execute_result"
    }
   ],
   "source": [
    "import numpy as np\n",
    "def bisect(f_s, a, b, delta):\n",
    "    try:\n",
    "        f=lambda x: eval(f_s)\n",
    "        ya = f(a);\n",
    "        yb = f(b);\n",
    "        c = 0;\n",
    "        err = 0;\n",
    "        yc = 0;\n",
    "        if  (ya*yb > 0):\n",
    "            return\n",
    "        max1 = 1 + round((np.log(b-a) - np.log(delta)) / np.log(2));\n",
    "        for k in range(1,max1+1):\n",
    "            c = (a + b) / 2;\n",
    "            yc = f(c);\n",
    "            if  (yc == 0):\n",
    "                a = c;\n",
    "                b = c;\n",
    "            elif  (yb*yc > 0):\n",
    "                b = c;\n",
    "                yb = yc;\n",
    "            else:\n",
    "                a = c;\n",
    "                ya = yc;\n",
    "            if  (b-a < delta):\n",
    "                break\n",
    "        c = (a + b) / 2;\n",
    "        err = abs(b - a);\n",
    "        yc = f(c);\n",
    "        return (c, err, yc)\n",
    "    except:\n",
    "        return (np.finfo(np.float64).eps,np.finfo(np.float64).eps,np.finfo(np.float64).eps)\n",
    "f=\"(np.exp(-2*x))/(np.tan(x))\"\n",
    "bisect(f,4,5,1e-10)"
   ]
  },
  {
   "cell_type": "code",
   "execution_count": 7,
   "metadata": {},
   "outputs": [
    {
     "data": {
      "text/plain": [
       "3"
      ]
     },
     "execution_count": 7,
     "metadata": {},
     "output_type": "execute_result"
    }
   ],
   "source": [
    "expresion = 'x**2-1'\n",
    "f = lambda x: eval(expresion)\n",
    "f(2)"
   ]
  },
  {
   "cell_type": "markdown",
   "metadata": {},
   "source": [
    "# Sistemas de ecuaciones lineales método de Jacobi.\n",
    "\n",
    "```\n",
    "function  X = jacobi (A, B, P, delta, max1)\n",
    "\n",
    "% Entrada  - A es una matriz no singular  N x N\n",
    "%          - B es una matriz  N x 1\n",
    "%          - P es una matriz  N x 1; los supuestos iniciales\n",
    "%\t       - delta es la tolerancia para  P\n",
    "%\t       - max1 es el numero maximo de iteraciones\n",
    "% Salida   - X es una matriz  N x 1: la aproximacion de jacobi a\n",
    "%\t         la solucion de  AX = B\n",
    "\n",
    "%  METODOS NUMERICOS: Programas en Matlab\n",
    "% (c) 2004 por John H. Mathews y Kurtis D. Fink\n",
    "%  Software complementario acompañando al texto:\n",
    "%  METODOS NUMERICOS con Matlab, Cuarta Edicion\n",
    "%  ISBN: 0-13-065248-2\n",
    "%  Prentice-Hall Pub. Inc.\n",
    "%  One Lake Street\n",
    "%  Upper Saddle River, NJ 07458\n",
    "\n",
    "N = length(B);\n",
    "\n",
    "for  k = 1:max1\n",
    "   %display(\"Iteracion N°\"+k)\n",
    "   for  j = 1:N\n",
    "      X(j) = (B(j) - A(j, [1:j-1, j+1:N]) * P([1:j-1, j+1:N])) / A(j, j);\n",
    "   end\n",
    "   %X\n",
    "   err = abs(norm(X' - P));\n",
    "   relerr = err/(norm(X) + eps);\n",
    "   P = X';\n",
    "      if  (err < delta)  |  (relerr < delta)\n",
    "     break\n",
    "   end\n",
    "end\n",
    "\n",
    "X = X';\n",
    "k\n",
    "err\n",
    "\n",
    "```"
   ]
  },
  {
   "cell_type": "code",
   "execution_count": 2,
   "metadata": {},
   "outputs": [],
   "source": [
    "import numpy as np\n",
    "\n",
    "def jacobi(A, B, x0, tol, max_iter):\n",
    "    A=np.array(eval(A))\n",
    "    B=np.array(eval(B))\n",
    "    x0=np.array(eval(x0))\n",
    "    n = len(B)\n",
    "    x = x0.copy()\n",
    "    \n",
    "    for k in range(max_iter):\n",
    "        x_new = np.zeros(n)\n",
    "        for i in range(n):\n",
    "            x_new[i] = (B[i] - np.dot(A[i, :i], x[:i]) - np.dot(A[i, i+1:], x[i+1:])) / A[i, i]\n",
    "        \n",
    "        err=np.linalg.norm(x_new - x)\n",
    "        if  err < tol:\n",
    "            return (x_new,k,err,\"JACOBI\")\n",
    "        x = x_new\n",
    "    \n",
    "    return (x,k,err,\"JACOBI\")\n"
   ]
  },
  {
   "cell_type": "code",
   "execution_count": 15,
   "metadata": {},
   "outputs": [
    {
     "name": "stdout",
     "output_type": "stream",
     "text": [
      "Solución X: (array([  5., -12.,  -4., -15.]), 4, 0.0, 'JACOBI')\n"
     ]
    }
   ],
   "source": [
    "# Ejemplo de uso:\n",
    "A = \"[[1,0,1,0],[1,-1,0,1],[1,1,-1,0],[1,1,1,-1]]\"\n",
    "B = \"[1,2,-3,4]\"\n",
    "x0 = \"[0,0,0,0]\"\n",
    "delta = 1e-6\n",
    "max1 = 1000\n",
    "\n",
    "X = jacobi(A, B, x0, delta, max1)\n",
    "print(\"Solución X:\", X)\n"
   ]
  },
  {
   "cell_type": "code",
   "execution_count": 22,
   "metadata": {},
   "outputs": [
    {
     "ename": "ValueError",
     "evalue": "too many values to unpack (expected 2)",
     "output_type": "error",
     "traceback": [
      "\u001b[1;31m---------------------------------------------------------------------------\u001b[0m",
      "\u001b[1;31mValueError\u001b[0m                                Traceback (most recent call last)",
      "\u001b[1;32md:\\Documents\\Universidad Nacional de Colombia\\2023 - 2\\3007850 Diseño y Construcción de productos de software\\ProyectoFinal\\clone_test\\Equipo14NumMetApp\\method_tests.ipynb Cell 6\u001b[0m line \u001b[0;36m<cell line: 27>\u001b[1;34m()\u001b[0m\n\u001b[0;32m     <a href='vscode-notebook-cell:/d%3A/Documents/Universidad%20Nacional%20de%20Colombia/2023%20-%202/3007850%20Dise%C3%B1o%20y%20Construcci%C3%B3n%20de%20productos%20de%20software/ProyectoFinal/clone_test/Equipo14NumMetApp/method_tests.ipynb#X11sZmlsZQ%3D%3D?line=23'>24</a>\u001b[0m tolerancia \u001b[39m=\u001b[39m \u001b[39m1e-6\u001b[39m\n\u001b[0;32m     <a href='vscode-notebook-cell:/d%3A/Documents/Universidad%20Nacional%20de%20Colombia/2023%20-%202/3007850%20Dise%C3%B1o%20y%20Construcci%C3%B3n%20de%20productos%20de%20software/ProyectoFinal/clone_test/Equipo14NumMetApp/method_tests.ipynb#X11sZmlsZQ%3D%3D?line=24'>25</a>\u001b[0m max_iteraciones \u001b[39m=\u001b[39m \u001b[39m100\u001b[39m\n\u001b[1;32m---> <a href='vscode-notebook-cell:/d%3A/Documents/Universidad%20Nacional%20de%20Colombia/2023%20-%202/3007850%20Dise%C3%B1o%20y%20Construcci%C3%B3n%20de%20productos%20de%20software/ProyectoFinal/clone_test/Equipo14NumMetApp/method_tests.ipynb#X11sZmlsZQ%3D%3D?line=26'>27</a>\u001b[0m (solucion, err) \u001b[39m=\u001b[39m jacobi(A, B, x0, tolerancia, max_iteraciones)\n\u001b[0;32m     <a href='vscode-notebook-cell:/d%3A/Documents/Universidad%20Nacional%20de%20Colombia/2023%20-%202/3007850%20Dise%C3%B1o%20y%20Construcci%C3%B3n%20de%20productos%20de%20software/ProyectoFinal/clone_test/Equipo14NumMetApp/method_tests.ipynb#X11sZmlsZQ%3D%3D?line=27'>28</a>\u001b[0m \u001b[39mprint\u001b[39m(\u001b[39m\"\u001b[39m\u001b[39mSolución X:\u001b[39m\u001b[39m\"\u001b[39m, solucion)\n",
      "\u001b[1;31mValueError\u001b[0m: too many values to unpack (expected 2)"
     ]
    }
   ],
   "source": [
    "\n",
    "# Ejemplo de uso:\n",
    "A = np.array([[10, 2, 1], [1, 5, 1], [2, 3, 10]])\n",
    "B = np.array([7, -8, 6])\n",
    "x0 = np.zeros(len(B))\n",
    "tolerancia = 1e-6\n",
    "max_iteraciones = 100\n",
    "\n",
    "(solucion, err) = jacobi(A, B, x0, tolerancia, max_iteraciones)\n",
    "print(\"Solución X:\", solucion)\n"
   ]
  },
  {
   "cell_type": "markdown",
   "metadata": {},
   "source": [
    "# Booler.\n",
    "\n",
    "```\n",
    "function AproxNum = boolerl(f,a,b,M)\n",
    "%Entradas:  f una función creada por @\n",
    "%          - Intervalo [a,b]\n",
    "%          - M subintervalos con M multiplo de 4\n",
    "%\n",
    "\n",
    "%Salida: Aproximación de la integral de f en [a,b] por el método de boole\n",
    "%       compuesto.\n",
    "\n",
    "if mod(M,4)==1\n",
    "    sprintf('Error!!  El numero de subintervalos debe ser multiplo de 4 ...')\n",
    "    return\n",
    "else\n",
    "    AproxNum=0;\n",
    "    h=(b-a)/M;\n",
    "    subI=linspace(a,b,M+1);\n",
    "    for i=0:M\n",
    "        if(i==0 || i==M)\n",
    "            AproxNum = AproxNum + 7*feval(f,subI(i+1));\n",
    "        elseif(mod(i,2)~=0)\n",
    "            AproxNum = AproxNum + 32*feval(f,subI(i+1));\n",
    "        elseif(mod(i,2)==0 & mod(i,4)~=0)\n",
    "            AproxNum = AproxNum + 12*feval(f,subI(i+1));\n",
    "        elseif(mod(i,4)==0)\n",
    "            AproxNum = AproxNum + 14*feval(f,subI(i+1));           \n",
    "        end\n",
    "    end\n",
    "    AproxNum = (2*h/45)*AproxNum;\n",
    "    display(\"La aproximación de la integral es de orden h^6 = \"+h^6)\n",
    "end\n",
    "```"
   ]
  },
  {
   "cell_type": "code",
   "execution_count": 12,
   "metadata": {},
   "outputs": [],
   "source": [
    "import numpy as np\n",
    "\n",
    "def boolerl(f_s, a, b, M):\n",
    "    # Entradas: f una función creada por @\n",
    "    #           - Intervalo [a, b]\n",
    "    #           - M subintervalos con M múltiplo de 4\n",
    "\n",
    "    # Salida: Aproximación de la integral de f en [a, b] por el método de boole compuesto.\n",
    "    \n",
    "    f=lambda x: eval(f_s)\n",
    "    if M % 4 != 0:\n",
    "        print('Error!! El número de subintervalos debe ser múltiplo de 4 ...')\n",
    "        return\n",
    "    else:\n",
    "        AproxNum = 0\n",
    "        h = (b - a) / M\n",
    "        subI = np.linspace(a, b, M + 1)\n",
    "        for i in range(M + 1):\n",
    "            if i == 0 or i == M:\n",
    "                AproxNum += 7 * f(subI[i])\n",
    "            elif i % 2 != 0:\n",
    "                AproxNum += 32 * f(subI[i])\n",
    "            elif i % 2 == 0 and i % 4 != 0:\n",
    "                AproxNum += 12 * f(subI[i])\n",
    "            elif i % 4 == 0:\n",
    "                AproxNum += 14 * f(subI[i])\n",
    "\n",
    "        AproxNum = (2 * h / 45) * AproxNum\n",
    "        #print(\"La aproximación de la integral es de orden h^6 =\", h ** 6)\n",
    "        return AproxNum\n"
   ]
  },
  {
   "cell_type": "code",
   "execution_count": 15,
   "metadata": {},
   "outputs": [
    {
     "name": "stdout",
     "output_type": "stream",
     "text": [
      "1.9999999990032753\n"
     ]
    }
   ],
   "source": [
    "f=\"np.sin(x)\"\n",
    "print(boolerl(f,0,np.pi,40))"
   ]
  },
  {
   "cell_type": "markdown",
   "metadata": {},
   "source": [
    "# RK4.\n",
    "```\n",
    "% Entrada   - F funcion vectorial creada con @\n",
    "%           - a y b los extremos del intervalo\n",
    "%           - Za = [x1(a), ... , xn(a)] las condiciones iniciales\n",
    "%           - M es el numero de pasos\n",
    "\n",
    "% Salida    - T es el vector de pasos\n",
    "%           - Z = [x1(t), ... , xn(t)] donde  xk(t)  es la aproximacion a la\n",
    "%             k-esima variable dependiente\n",
    "function  AproxSol = RK4(F, a, b, Za, M)\n",
    "    for  j = 1:M\n",
    "        k1 = h * feval(F, T(j), Z(j, :));\n",
    "        k2 = h * feval(F, T(j) + h/2, Z(j, :) + k1/2);\n",
    "        k3 = h * feval(F, T(j) + h/2, Z(j, :) + k2/2);\n",
    "        k4 = h * feval(F, T(j) + h, Z(j, :) + k3);\n",
    "        Z(j+1, :) = Z(j, :) + (k1 + 2 * k2 + 2 * k3 + k4) / 6;\n",
    "    end\n",
    "\n",
    "    AproxSol=[T' Z];\n",
    "```\n"
   ]
  },
  {
   "cell_type": "code",
   "execution_count": 25,
   "metadata": {},
   "outputs": [],
   "source": [
    "import numpy as np\n",
    "\n",
    "def RK4(ED, a, b, Z, M):\n",
    "    F = lambda t,y: eval(ED)\n",
    "    h = (b - a) / M\n",
    "    T = np.linspace(a, b, M+1)\n",
    "    Za=[Z]\n",
    "    n = len(Za)\n",
    "    Z = np.zeros((M+1, n))\n",
    "    Z[0, :] = Za\n",
    "\n",
    "    for j in range(M):\n",
    "        k1 = h * F(T[j], Z[j, :])\n",
    "        k2 = h * F(T[j] + h/2, Z[j, :] + k1/2)\n",
    "        k3 = h * F(T[j] + h/2, Z[j, :] + k2/2)\n",
    "        k4 = h * F(T[j] + h, Z[j, :] + k3)\n",
    "        Z[j+1, :] = Z[j, :] + (k1 + 2*k2 + 2*k3 + k4) / 6\n",
    "\n",
    "    AproxSol = np.column_stack((T, Z))\n",
    "    return (AproxSol, \"RK4\")\n"
   ]
  },
  {
   "cell_type": "code",
   "execution_count": 26,
   "metadata": {},
   "outputs": [
    {
     "name": "stdout",
     "output_type": "stream",
     "text": [
      "(array([[1.        , 2.4       ],\n",
      "       [1.2       , 2.4343843 ],\n",
      "       [1.4       , 2.47083646],\n",
      "       [1.6       , 2.50911624],\n",
      "       [1.8       , 2.54899082],\n",
      "       [2.        , 2.59023758],\n",
      "       [2.2       , 2.63264613],\n",
      "       [2.4       , 2.67601978],\n",
      "       [2.6       , 2.72017639]]), 'RK4')\n"
     ]
    }
   ],
   "source": [
    "import numpy as np\n",
    "\n",
    "# Define la ecuación diferencial como una función F(x, y)\n",
    "# dy/dx = x - y\n",
    "ED = \"(1+t)/(1+np.exp(y))\" \n",
    "\n",
    "# Condiciones iniciales\n",
    "a = 1\n",
    "b = 2.6\n",
    "Za = 2.4  # y(0) = 2.4\n",
    "M = int((b-a)/0.2)\n",
    "\n",
    "# Llama a la función RK4 para resolver la ecuación diferencial\n",
    "\n",
    "AproxSol = RK4(ED, a, b, Za, M)\n",
    "\n",
    "# AproxSol es una matriz que contiene los pasos de tiempo y las soluciones\n",
    "print(AproxSol)\n"
   ]
  }
 ],
 "metadata": {
  "kernelspec": {
   "display_name": "Python 3",
   "language": "python",
   "name": "python3"
  },
  "language_info": {
   "codemirror_mode": {
    "name": "ipython",
    "version": 3
   },
   "file_extension": ".py",
   "mimetype": "text/x-python",
   "name": "python",
   "nbconvert_exporter": "python",
   "pygments_lexer": "ipython3",
   "version": "3.10.5"
  }
 },
 "nbformat": 4,
 "nbformat_minor": 2
}
